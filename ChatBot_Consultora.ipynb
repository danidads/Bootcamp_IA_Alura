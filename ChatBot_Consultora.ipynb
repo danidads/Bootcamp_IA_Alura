{
  "nbformat": 4,
  "nbformat_minor": 0,
  "metadata": {
    "colab": {
      "provenance": [],
      "include_colab_link": true
    },
    "kernelspec": {
      "name": "python3",
      "display_name": "Python 3"
    },
    "language_info": {
      "name": "python"
    }
  },
  "cells": [
    {
      "cell_type": "markdown",
      "metadata": {
        "id": "view-in-github",
        "colab_type": "text"
      },
      "source": [
        "<a href=\"https://colab.research.google.com/github/danidads/Bootcamp_IA_Alura/blob/main/ChatBot_Consultora.ipynb\" target=\"_parent\"><img src=\"https://colab.research.google.com/assets/colab-badge.svg\" alt=\"Open In Colab\"/></a>"
      ]
    },
    {
      "cell_type": "code",
      "source": [
        "%pip -q install google-genai"
      ],
      "metadata": {
        "id": "UCCbECexLk_h"
      },
      "execution_count": 37,
      "outputs": []
    },
    {
      "cell_type": "code",
      "source": [
        "# Configura a API Key do Google Gemini\n",
        "\n",
        "import os\n",
        "from google.colab import userdata\n",
        "\n",
        "os.environ[\"GOOGLE_API_KEY\"] = userdata.get('GOOGLE_API_KEY')"
      ],
      "metadata": {
        "id": "NfCqHo1tLk8P"
      },
      "execution_count": 36,
      "outputs": []
    },
    {
      "cell_type": "code",
      "source": [
        "# Configura o cliente da SDK do Gemini\n",
        "\n",
        "from google import genai\n",
        "\n",
        "client = genai.Client()\n",
        "\n",
        "MODEL_ID = \"gemini-2.0-flash\""
      ],
      "metadata": {
        "id": "bV4w0H5TLk5g"
      },
      "execution_count": 38,
      "outputs": []
    },
    {
      "cell_type": "code",
      "source": [
        "# Instalar Framework de agentes do Google ################################################\n",
        "!pip install -q google-adk"
      ],
      "metadata": {
        "id": "a1eRPalxEnj7"
      },
      "execution_count": 39,
      "outputs": []
    },
    {
      "cell_type": "code",
      "source": [
        "# Instala Pillow, se ainda não tiver\n",
        "!pip install pillow\n",
        "from PIL import Image, ImageDraw, ImageFont\n",
        "import os\n"
      ],
      "metadata": {
        "colab": {
          "base_uri": "https://localhost:8080/"
        },
        "id": "5ADUJIFPpby0",
        "outputId": "8fffdd12-01f9-4c93-df50-30505729ab26"
      },
      "execution_count": 40,
      "outputs": [
        {
          "output_type": "stream",
          "name": "stdout",
          "text": [
            "Requirement already satisfied: pillow in /usr/local/lib/python3.11/dist-packages (11.2.1)\n"
          ]
        }
      ]
    },
    {
      "cell_type": "code",
      "source": [],
      "metadata": {
        "id": "7s407E7xvRqh"
      },
      "execution_count": null,
      "outputs": []
    },
    {
      "cell_type": "code",
      "source": [],
      "metadata": {
        "id": "NarH-O2yvTmA"
      },
      "execution_count": null,
      "outputs": []
    },
    {
      "cell_type": "code",
      "source": [
        "from PIL import Image, ImageDraw, ImageFont\n",
        "import os\n"
      ],
      "metadata": {
        "id": "P3DkQBz9q206"
      },
      "execution_count": 41,
      "outputs": []
    },
    {
      "cell_type": "code",
      "source": [
        "import re\n",
        "import openai\n",
        "import textwrap\n",
        "from PIL import Image\n",
        "from io import BytesIO"
      ],
      "metadata": {
        "id": "vb5VP7FQvVBp"
      },
      "execution_count": 42,
      "outputs": []
    },
    {
      "cell_type": "code",
      "execution_count": 54,
      "metadata": {
        "id": "aePV2bdfDeoW"
      },
      "outputs": [],
      "source": [
        "from google.adk.agents import Agent\n",
        "from google.adk.runners import Runner\n",
        "from google.adk.sessions import InMemorySessionService\n",
        "from google.adk.tools import google_search\n",
        "from google.genai import types  # Para criar conteúdos (Content e Part)\n",
        "from datetime import date\n",
        "from datetime import date\n",
        "from IPython.display import display\n",
        "from tabulate import tabulate\n",
        "import textwrap # Para formatar melhor a saída de texto\n",
        "from IPython.display import display, Markdown # Para exibir texto formatado no Colab\n",
        "import warnings\n",
        "\n",
        "warnings.filterwarnings(\"ignore\")"
      ]
    },
    {
      "cell_type": "code",
      "source": [
        "\n",
        "from google.adk.agents import Agent\n",
        "from google.adk.runners import Runner\n",
        "from google.adk.sessions import InMemorySessionService\n",
        "from google.adk.tools import google_search\n",
        "from google.genai import types\n",
        "from datetime import date\n",
        "import textwrap"
      ],
      "metadata": {
        "id": "haD4QqfL4Ve5"
      },
      "execution_count": 44,
      "outputs": []
    },
    {
      "cell_type": "code",
      "source": [
        "# Função auxiliar que envia uma mensagem para um agente via Runner e retorna a resposta final\n",
        "def call_agent(agent: Agent, message_text: str) -> str:\n",
        "    # Cria um serviço de sessão em memória\n",
        "    session_service = InMemorySessionService()\n",
        "    # Cria uma nova sessão (você pode personalizar os IDs conforme necessário)\n",
        "    session = session_service.create_session(app_name=agent.name, user_id=\"user1\", session_id=\"session1\")\n",
        "    # Cria um Runner para o agente\n",
        "    runner = Runner(agent=agent, app_name=agent.name, session_service=session_service)\n",
        "    # Cria o conteúdo da mensagem de entrada\n",
        "    content = types.Content(role=\"user\", parts=[types.Part(text=message_text)])\n",
        "\n",
        "    final_response = \"\"\n",
        "    # Itera assincronamente pelos eventos retornados durante a execução do agente\n",
        "    for event in runner.run(user_id=\"user1\", session_id=\"session1\", new_message=content):\n",
        "        if event.is_final_response():\n",
        "          for part in event.content.parts:\n",
        "            if part.text is not None:\n",
        "              final_response += part.text\n",
        "              final_response += \"\\n\"\n",
        "    return final_response"
      ],
      "metadata": {
        "id": "_xP4lWhsS5ko"
      },
      "execution_count": 45,
      "outputs": []
    },
    {
      "cell_type": "code",
      "source": [
        "# Função auxiliar para exibir texto formatado em Markdown no Colab\n",
        "def to_markdown(text):\n",
        "  text = text.replace('•', '  *')\n",
        "  return Markdown(textwrap.indent(text, '> ', predicate=lambda _: True))"
      ],
      "metadata": {
        "id": "8dosiodaxfFR"
      },
      "execution_count": 46,
      "outputs": []
    },
    {
      "cell_type": "code",
      "source": [
        "##########################################\n",
        "# --- Agente 1: Buscador de Notícias --- #\n",
        "##########################################\n",
        "def agente_buscador(topico, data_de_hoje):\n",
        "\n",
        "    buscador = Agent(\n",
        "        name=\"agente_buscador\",\n",
        "        model=\"gemini-2.0-flash\",\n",
        "        instruction=\"\"\"\n",
        "        Você é um assistente de pesquisa. A sua tarefa é usar a ferramenta de busca do google (google_search) e site oficial (https://www.marykay.com.br/)\n",
        "        para recuperar as útimas notícias de lançamentos Mary Kay, cuidados com a pele e maquiagem muito relevantes sobre o tópico abaixo.\n",
        "        Foque em no máximo 5 lançamentos relevantes, com base na quantidade e entusiasmo das notícias sobre ele.\n",
        "        Se um tema tiver poucas notícias ou reações entusiasmadas, é possível que ele não seja tão relevante assim\n",
        "        e pode ser substituído por outro que tenha mais.\n",
        "        Traga informações de cuidados com a pele e maquiagem que possa fazer uma junção com os produtos Mary Kay.\n",
        "        Esses lançamentos relevantes devem ser atuais, de no máximo um mês antes da data de hoje.\n",
        "        \"\"\",\n",
        "        description=\"Agente que busca informações no Google\",\n",
        "        tools=[google_search]\n",
        "    )\n",
        "\n",
        "    entrada_do_agente_buscador = f\"Tópico: {topico}\\nData de hoje: {data_de_hoje}\"\n",
        "\n",
        "    lancamentos = call_agent(buscador, entrada_do_agente_buscador)\n",
        "    return lancamentos"
      ],
      "metadata": {
        "id": "o8bqIfi_DyH8"
      },
      "execution_count": 47,
      "outputs": []
    },
    {
      "cell_type": "code",
      "source": [
        "################################################\n",
        "# --- Agente 2: Planejador de posts --- #\n",
        "################################################\n",
        "def agente_planejador(topico, lancamentos_buscados):\n",
        "    planejador = Agent(\n",
        "        name=\"agente_planejador\",\n",
        "        model=\"gemini-2.0-flash\",\n",
        "        # Inserir as instruções do Agente Planejador #################################################\n",
        "        instruction=\"\"\"\n",
        "        Você é um planejador de conteúdo, especialista em redes sociais na área de beleza Mary Kay. Com base na lista de lançamentos mais recentes e relevantes buscados, você deve:\n",
        "        usar a ferramenta de busca do Google (google_search) e site oficial (https://www.marykay.com.br/) para criar um plano sobre quais são os pontos mais relevantes que poderíamos abordar em um post sobre cada um deles.\n",
        "        Você também pode usar o (google_search) e site oficial (https://www.marykay.com.br/) para encontrar mais informações sobre os temas e aprofundar.\n",
        "        Ao final, você irá escolher o tema mais relevante entre eles com base nas suas pesquisas a serem abordados no post que será escrito posteriormente.\n",
        "        \"\"\",\n",
        "        description=\"Agente que planeja posts\",\n",
        "        tools=[google_search]\n",
        "    )\n",
        "\n",
        "    entrada_do_agente_planejador = f\"Tópico:{topico}\\nLançamentos buscados: {lancamentos_buscados}\"\n",
        "    # Executa o agente\n",
        "    plano_do_post = call_agent(planejador, entrada_do_agente_planejador)\n",
        "    return plano_do_post"
      ],
      "metadata": {
        "id": "y3VO1uo5_ghO"
      },
      "execution_count": 48,
      "outputs": []
    },
    {
      "cell_type": "code",
      "source": [
        "######################################\n",
        "# --- Agente 3: Redator do Post --- #\n",
        "######################################\n",
        "def agente_redator(topico, plano_de_post):\n",
        "    redator = Agent(\n",
        "        name=\"agente_redator\",\n",
        "        model=\"gemini-2.0-flash\",\n",
        "        instruction=\"\"\"\n",
        "            Você é um Redator Criativo especializado em criar posts virais para redes sociais.\n",
        "            Você escreve posts para a Elizabete Dias, a melhor Consultora Independente Mary Kay de Goiânia, Brasil.\n",
        "            Por ter um público de jovem senhoras, entre 30 e 80 anos, use imagens adequadas.\n",
        "            Utilize o tema fornecido no plano de post e os pontos mais relevantes fornecidos e, com base nisso,\n",
        "            escreva 5 rascunhos de post para Instagram sobre o tema indicado.\n",
        "            Quero que traga referências do site oficial (https://www.marykay.com.br/).\n",
        "            Os posts devem ser engajador, informativo, com linguagem simples e incluir 2 a 4 hashtags no final.\n",
        "            \"\"\",\n",
        "        description=\"Agente redator de posts engajadores para Instagram\"\n",
        "    )\n",
        "    entrada_do_agente_redator = f\"Tópico: {topico}\\nPlano de post: {plano_de_post}\"\n",
        "    # Executa o agente\n",
        "    rascunho = call_agent(redator, entrada_do_agente_redator)\n",
        "    return rascunho"
      ],
      "metadata": {
        "id": "uOqlg2TRLVh1"
      },
      "execution_count": 49,
      "outputs": []
    },
    {
      "cell_type": "code",
      "source": [
        "##########################################\n",
        "# --- Agente 4: Revisor de Qualidade --- #\n",
        "##########################################\n",
        "def agente_revisor(topico, rascunho_gerado):\n",
        "    revisor = Agent(\n",
        "        name=\"agente_revisor\",\n",
        "        model=\"gemini-2.0-flash\",\n",
        "        instruction=\"\"\"\n",
        "            Você é um Editor e Revisor de Conteúdo meticuloso, especializado em posts para redes sociais para Consultoras Independente Mary Kay, com foco no Instagram.\n",
        "            Por ter um público jovem, entre 18 e 30 anos, use um tom de escrita adequado.\n",
        "            Revise o rascunho de post de Instagram abaixo sobre o tópico indicado, verificando clareza, concisão, correção e tom.\n",
        "            Se o rascunho estiver bom, responda apenas 'O rascunho está ótimo e pronto para publicar!'.\n",
        "            Caso haja problemas, aponte-os e sugira melhorias.\n",
        "            \"\"\",\n",
        "        description=\"Agente revisor de post para redes sociais.\"\n",
        "    )\n",
        "    entrada_do_agente_revisor = f\"Tópico: {topico}\\nRascunho: {rascunho_gerado}\"\n",
        "    # Executa o agente\n",
        "    texto_revisado = call_agent(revisor, entrada_do_agente_revisor)\n",
        "    return texto_revisado"
      ],
      "metadata": {
        "id": "_aTb1SdkLeT6"
      },
      "execution_count": 50,
      "outputs": []
    },
    {
      "cell_type": "code",
      "source": [
        "# ######################################################\n",
        "# # --- Agente 5: Criador de Página Web com Canva --- #\n",
        "# ######################################################\n",
        "# def agente_web_canva(tema_web):\n",
        "#     web_designer = Agent(\n",
        "#         name=\"agente_web_canva\",\n",
        "#         model=\"gemini-2.0-flash\",\n",
        "#         description=\"Agente especializado na criação de designs de páginas web usando a ferramenta Canva.\",\n",
        "#         tools=[canva, google_search],\n",
        "#         instruction=\"\"\"\n",
        "#         Você é um web designer criativo e especialista em usar a ferramenta Canva para criar designs de páginas web atraentes e informativas para consultoras de beleza Mary Kay.\n",
        "\n",
        "#         Com base no tema fornecido pelo usuário, sua tarefa é utilizar a ferramenta 'canva' para gerar um design inicial de página web.\n",
        "\n",
        "#         Você pode usar a ferramenta 'google_search' para buscar inspiração de designs de páginas web de beleza ou exemplos de páginas de consultoras Mary Kay, se necessário.\n",
        "\n",
        "#         O design deve ser visualmente agradável, fácil de navegar e adequado para apresentar informações sobre produtos Mary Kay, dicas de beleza ou informações de contato da consultora.\n",
        "\n",
        "#         Ao final, forneça uma descrição do design da página web que você criou e, se possível, inclua um link ou informações sobre como acessar ou editar o design no Canva.\n",
        "#         \"\"\"\n",
        "#     )\n",
        "\n",
        "#     entrada_do_agente_web = f\"Tema para a página web: {tema_web}\"\n",
        "#     design_web = call_agent(web_designer, entrada_do_agente_web)\n",
        "#     return design_web\n",
        "\n"
      ],
      "metadata": {
        "id": "hv7ERetTl9Wr"
      },
      "execution_count": 51,
      "outputs": []
    },
    {
      "cell_type": "code",
      "source": [
        "data_de_hoje = date.today().strftime(\"%d/%m/%Y\")\n",
        "\n",
        "print(\"🚀 Iniciando o Sistema de Criação de Posts para Instagram com 5 Agentes 🚀\")\n",
        "\n",
        "# --- Obter o Tópico do Usuário ---\n",
        "topico = input(\"❓ Por favor, digite o TÓPICO sobre o qual você quer criar o post de tendências: \")\n",
        "\n",
        "# Inserir lógica do sistema de agentes ################################################\n",
        "if not topico:\n",
        "    print(\"⚠️ Por favor, digite um tópico válido!\")\n",
        "else:\n",
        "    print(f\"Maravilha! Vamos então criar o post sobre novidades em {topico}\")\n",
        "\n",
        "    lancamentos_buscados = agente_buscador(topico, data_de_hoje)\n",
        "    print(\"\\n--- 📝 Resultado do Agente 1 (Buscador) ---\\n\")\n",
        "    display(to_markdown(lancamentos_buscados))\n",
        "    print(\"--------------------------------------------------------------\")\n",
        "\n",
        "    plano_de_post = agente_planejador(topico, lancamentos_buscados)\n",
        "    print(\"\\n--- 📝 Resultado do Agente 2 (Planejador) ---\\n\")\n",
        "    display(to_markdown(plano_de_post))\n",
        "    print(\"--------------------------------------------------------------\")\n",
        "\n",
        "    rascunho_de_post = agente_redator(topico, plano_de_post)\n",
        "    print(\"\\n--- 📝 Resultado do Agente 3 (Redator) ---\\n\")\n",
        "    display(to_markdown(rascunho_de_post))\n",
        "    print(\"--------------------------------------------------------------\")\n",
        "\n",
        "    post_final = agente_revisor(topico, rascunho_de_post)\n",
        "    print(\"\\n--- 📝 Resultado do Agente 4 (Revisor) ---\\n\")\n",
        "    display(to_markdown(post_final))\n",
        "    print(\"--------------------------------------------------------------\")"
      ],
      "metadata": {
        "colab": {
          "base_uri": "https://localhost:8080/",
          "height": 1000
        },
        "id": "6xzI6LKzxxnN",
        "outputId": "a6ecbca9-35e1-4098-90f3-c8d9e354ed01",
        "collapsed": true
      },
      "execution_count": 55,
      "outputs": [
        {
          "output_type": "stream",
          "name": "stdout",
          "text": [
            "🚀 Iniciando o Sistema de Criação de Posts para Instagram com 5 Agentes 🚀\n",
            "❓ Por favor, digite o TÓPICO sobre o qual você quer criar o post de tendências: olhos\n",
            "Maravilha! Vamos então criar o post sobre novidades em olhos\n",
            "\n",
            "--- 📝 Resultado do Agente 1 (Buscador) ---\n",
            "\n"
          ]
        },
        {
          "output_type": "display_data",
          "data": {
            "text/plain": [
              "<IPython.core.display.Markdown object>"
            ],
            "text/markdown": "> Para fornecer as informações mais recentes sobre lançamentos de produtos Mary Kay para os olhos e dicas de cuidados com a pele e maquiagem, vou realizar algumas pesquisas no Google.\n> \n> \n> Com base nas minhas buscas, aqui estão alguns lançamentos e tendências da Mary Kay para os olhos que podem ser relevantes para você:\n> \n> **Lançamentos e Produtos Mary Kay para Olhos:**\n> \n> 1.  **Lápis Retrátil para os Olhos à Prova d'Água Mary Kay®:** Este lápis foi lançado em 2024 e está disponível em três cores clássicas: preto, marrom e azul. Ele oferece alta pigmentação e uma textura cremosa, ideal para delineados finos e esfumados. A fórmula à prova d'água garante resistência a transferências e borrões, proporcionando um olhar marcante durante todo o dia.\n> 2.  **Máscara de Pestanas Great Heights™:** NOVA! Máscara de Pestanas Great Heights™.\n> 3.  **Máscara de Cílios:** Uma máscara de cílios está incluída em um dos kits de início para novas consultoras.\n> 4.  **Desmaquilhante de olhos Mary Kay®:** Para uma remoção suave da maquiagem dos olhos.\n> 5.  **Gel Suavizante para a Área dos Olhos Mary Kay:** Contém extratos botânicos tonificantes, firmadores e redutores da aparência de inchaço. Aumenta a hidratação da pele em 130%, acalmando e tonificando a área delicada ao redor dos olhos.\n> \n> **Tendências de Maquiagem para Olhos em 2025:**\n> \n> *   **Olhos Marcantes:** Os olhos continuam sendo o foco principal na maquiagem. Delineadores gráficos, sombras metalizadas e cílios postiços volumosos estão em alta.\n> *   **Cores Vibrantes:** Delineadores coloridos em tons de verde, azul, laranja e rosa são uma forte tendência, usados em traços gráficos, gatinho ou apenas um toque no canto dos olhos. Sombras também seguem a mesma vibe, com aplicações descomplicadas e combinações improváveis.\n> *   **Sombras Metalizadas:** As sombras metalizadas destacam os olhos, criando looks sofisticados e elegantes para qualquer ocasião.\n> *   **Maquiagem Minimalista:** Uma abordagem mais natural e sustentável, com foco em produtos que realçam a beleza natural. Menos camadas de maquiagem e mais foco em texturas leves e acabamentos luminosos.\n> *   **Delineado de Gatinho:** O clássico delineado de gatinho continua em alta, usado com traços coloridos, formatos variados e até mesmo sombreados. Delineados gráficos duplos ou combinados com sombras coloridas também são opções.\n> \n> **Cuidados com a Pele ao Redor dos Olhos:**\n> \n> *   **Hidratação:** A pele ao redor dos olhos é fina e sensível, sendo a primeira a mostrar sinais de cansaço e envelhecimento. A hidratação é fundamental para prevenir linhas finas e rugas.\n> *   **Ativos Poderosos:** Ao escolher produtos para a área dos olhos, procure por ingredientes como Ácido Hialurônico (hidratação), Cafeína (redução de olheiras e inchaço) e Vitamina E (antioxidante).\n> *   **Cremes para a Área dos Olhos:** Produtos específicos, como séruns e máscaras, podem oferecer benefícios adicionais. Ao escolher um produto, considere o tipo de pele e as preocupações individuais.\n> *   **Aplicação Correta:** Aplique os produtos suavemente, usando o dedo anelar para evitar pressão excessiva. Evite a área próxima ao canal lacrimal para prevenir irritações.\n> *   **Rotina Diária:** Incorpore os cuidados com a área dos olhos tanto na rotina matinal quanto na noturna para garantir proteção e hidratação contínuas.\n> \n> **Produtos Mary Kay para Cuidados com a Área dos Olhos:**\n> \n> *   **Gel Suavizante para a Área dos Olhos Mary Kay:** Revitaliza e refresca a aparência de cansaço ao redor dos olhos, aumentando a hidratação da pele.\n> *   **Creme para Área dos Olhos Anti-sinais Timewise 3D Mary Kay:** Combate múltiplos sinais visíveis de envelhecimento e fadiga da pele, melhorando linhas finas, opacidade, firmeza e textura da pele.\n> *   **Creme para a Área dos Olhos Volu-Firm Mary Kay TimeWise Repair:** Para pele sensível de 14g 40+ anos.\n> \n> Lembre-se que a Mary Kay oferece uma variedade de produtos para os olhos, desde sombras e delineadores até produtos de cuidados com a pele específicos para a área dos olhos. As tendências de maquiagem para 2025 apontam para olhos marcantes e coloridos, combinados com uma pele natural e bem cuidada.\n"
          },
          "metadata": {}
        },
        {
          "output_type": "stream",
          "name": "stdout",
          "text": [
            "--------------------------------------------------------------\n",
            "\n",
            "--- 📝 Resultado do Agente 2 (Planejador) ---\n",
            "\n"
          ]
        },
        {
          "output_type": "display_data",
          "data": {
            "text/plain": [
              "<IPython.core.display.Markdown object>"
            ],
            "text/markdown": "> Com base nas informações sobre os lançamentos e tendências da Mary Kay para os olhos, podemos criar um plano de conteúdo diversificado e relevante para as redes sociais. Aqui estão alguns pontos que poderíamos abordar em posts sobre cada um dos temas:\n> \n> **1. Lápis Retrátil para os Olhos à Prova d'Água Mary Kay®:**\n> \n> *   **Destaque:** Lançamento recente com alta pigmentação e fórmula à prova d'água.\n> *   **Pontos a abordar:**\n>     *   Apresentar as três cores disponíveis (preto, marrom e azul) com fotos e vídeos demonstrando a intensidade da cor.\n>     *   Mostrar a textura cremosa do lápis e como ele desliza suavemente na pele, facilitando a aplicação.\n>     *   Criar tutoriais de maquiagem com delineados finos e esfumados, mostrando a versatilidade do produto.\n>     *   Realizar testes de resistência à água para comprovar a durabilidade e a prova d'água do lápis.\n>     *   Comparar com outros lápis de olho no mercado, destacando os benefícios e diferenciais do produto Mary Kay.\n> \n> **2. Máscara de Pestanas Great Heights™:**\n> \n> *   **Destaque:** Lançamento da nova máscara de pestanas.\n> *   **Pontos a abordar:**\n>     *   Focar no diferencial da máscara, como o aumento do volume e alongamento das pestanas.\n>     *   Criar tutoriais mostrando o antes e depois da aplicação, destacando o impacto no olhar.\n>     *   Apresentar a fórmula da máscara, mencionando se é à prova d'água, de longa duração e se possui ingredientes que cuidam das pestanas.\n>     *   Fazer um vídeo comparando a máscara com outras opções no mercado, mostrando os resultados em diferentes tipos de pestanas.\n> \n> **3. Máscara de Cílios (Kit de Início):**\n> \n> *   **Destaque:** Produto incluído no kit de início para novas consultoras.\n> *   **Pontos a abordar:**\n>     *   Mostrar os benefícios da máscara de cílios, como alongamento, volume e definição.\n>     *   Criar um vídeo mostrando como a máscara pode ser usada para criar diferentes looks, desde o natural até o mais dramático.\n>     *   Explicar como a máscara de cílios pode ser uma ferramenta importante para as novas consultoras demonstrarem os produtos Mary Kay.\n> \n> **4. Desmaquilhante de Olhos Mary Kay®:**\n> \n> *   **Destaque:** Remoção suave da maquiagem dos olhos.\n> *   **Pontos a abordar:**\n>     *   Demonstrar a eficácia do desmaquilhante na remoção de diferentes tipos de maquiagem, incluindo produtos à prova d'água.\n>     *   Mostrar como o produto é suave e não irrita a área dos olhos, ideal para peles sensíveis.\n>     *   Explicar como usar corretamente o desmaquilhante para evitar irritações e garantir uma limpeza completa.\n>     *   Destacar os ingredientes que ajudam a hidratar e proteger a pele ao redor dos olhos.\n> \n> **5. Gel Suavizante para a Área dos Olhos Mary Kay:**\n> \n> *   **Destaque:** Contém extratos botânicos e aumenta a hidratação da pele.\n> *   **Pontos a abordar:**\n>     *   Explicar como o gel suavizante ajuda a reduzir o inchaço e a aparência de cansaço ao redor dos olhos.\n>     *   Mostrar como o produto pode ser usado na rotina diária de cuidados com a pele, tanto pela manhã quanto à noite.\n>     *   Destacar os extratos botânicos presentes na fórmula e seus benefícios para a pele.\n>     *   Realizar testes de hidratação para comprovar o aumento da hidratação da pele em 130%.\n> \n> **6. Tendências de Maquiagem para Olhos em 2025:**\n> \n> *   **Destaque:** Olhos marcantes, cores vibrantes e sombras metalizadas.\n> *   **Pontos a abordar:**\n>     *   Criar tutoriais de maquiagem inspirados nas tendências de 2025, mostrando como usar delineadores coloridos, sombras metalizadas e cílios postiços volumosos.\n>     *   Apresentar produtos Mary Kay que se encaixam nessas tendências, como delineadores em gel coloridos e sombras cintilantes.\n>     *   Inspirar o público a experimentar novas cores e estilos, mostrando que a maquiagem pode ser divertida e criativa.\n> \n> **7. Cuidados com a Pele ao Redor dos Olhos:**\n> \n> *   **Destaque:** Hidratação, ativos poderosos e rotina diária.\n> *   **Pontos a abordar:**\n>     *   Explicar a importância da hidratação para prevenir linhas finas e rugas na área dos olhos.\n>     *   Apresentar ingredientes como Ácido Hialurônico, Cafeína e Vitamina E, destacando seus benefícios para a pele.\n>     *   Criar um guia completo de cuidados com a pele ao redor dos olhos, incluindo dicas de aplicação correta dos produtos e rotina diária.\n> \n> **Escolha do tema mais relevante:**\n> \n> Com base nas pesquisas, o tema mais relevante a ser abordado no post é o **Lápis Retrátil para os Olhos à Prova d'Água Mary Kay®**. Por ser um lançamento recente e possuir características como alta pigmentação, textura cremosa e fórmula à prova d'água, ele se destaca como um produto inovador e versátil. Além disso, a possibilidade de criar tutoriais de maquiagem com diferentes estilos de delineado torna o tema ainda mais interessante para o público.\n> \n"
          },
          "metadata": {}
        },
        {
          "output_type": "stream",
          "name": "stdout",
          "text": [
            "--------------------------------------------------------------\n",
            "\n",
            "--- 📝 Resultado do Agente 3 (Redator) ---\n",
            "\n"
          ]
        },
        {
          "output_type": "display_data",
          "data": {
            "text/plain": [
              "<IPython.core.display.Markdown object>"
            ],
            "text/markdown": "> Perfeito! Com base no seu plano e priorizando o **Lápis Retrátil para os Olhos à Prova d'Água Mary Kay®**, aqui estão 5 rascunhos de posts para o Instagram da Elizabete Dias:\n> \n> **Rascunho 1: (Carrossel com fotos e vídeos)**\n> \n> *   **Imagem 1:** Close-up do lápis nas 3 cores (preto, marrom, azul) com fundo clean.\n> *   **Imagem 2:** Vídeo curto demonstrando a aplicação suave do lápis na pálpebra.\n> *   **Imagem 3:** Foto de um delineado gatinho impecável feito com o lápis preto.\n> *   **Imagem 4:** Teste de resistência à água (borrifando água no delineado e mostrando que não borra).\n> *   **Legenda:** ✨ LANÇAMENTO BABADEIRO! ✨ Chegou o Lápis Retrátil à Prova d'Água Mary Kay! 😱 Cores intensas, textura super cremosa que desliza fácil e... PODE CHORAR À VONTADE! 😉 Disponível em preto, marrom e azul pra você arrasar em qualquer look. Qual sua cor favorita? 👇 #MaryKayBrasil #LapisRetratilMK #MakeAProvaDAgua #LancamentoMaryKay\n> \n> **Rascunho 2: (Vídeo Reel curto)**\n> \n> *   **Vídeo:** Transição rápida mostrando a Elizabete com o rosto limpo e, em seguida, com um delineado poderoso feito com o lápis.\n> *   **Áudio:** Música trendy e animada.\n> *   **Texto na tela:** \"Delineado perfeito em segundos? ✅ À prova d'água? ✅ Cores incríveis? ✅  Lápis Retrátil Mary Kay!\"\n> *   **Legenda:**  Acorda, gata! 🤩 Seu delineado dos sonhos agora é REALIDADE com o novo Lápis Retrátil Mary Kay! ✨ Prático, pigmentado e à prova de tudo! 😉 Quer experimentar? Me chama no direct! 💖 #MaryKayGoiania #DelineadoPerfeito #MakeUpTutorial #ElizabeteDiasMK\n> \n> **Rascunho 3: (Imagem única com frase impactante)**\n> \n> *   **Imagem:**  Olho com um delineado gráfico moderno usando o lápis azul.\n> *   **Legenda:**  💙 AZUL POWER! 💙  Quem disse que make discreta é a única opção? 😉 Arrase com o Lápis Retrátil Azul Mary Kay e mostre sua personalidade! ✨  Alta pigmentação, fácil de aplicar e à prova d'água!  😱  Peça já o seu! 💋 #MaryKayBrasil #OlhosDestaque #AzulVibrante #ConsultoraMaryKay\n> \n> **Rascunho 4: (Carrossel comparativo)**\n> \n> *   **Imagem 1:** Foto do Lápis Retrátil Mary Kay ao lado de um lápis de outra marca.\n> *   **Imagem 2:**  Vídeo mostrando a aplicação dos dois lápis em um papel (demonstrando a pigmentação superior do Mary Kay).\n> *   **Imagem 3:** Teste de borrão: passando o dedo sobre os dois traços (mostrando que o Mary Kay não borra).\n> *   **Legenda:**  🤔 LÁPIS DE OLHO: QUAL A MELHOR OPÇÃO? 🤔  Não se engane! 😉  O Lápis Retrátil Mary Kay oferece: ✅ Pigmentação intensa ✅ Textura macia ✅ Longa duração ✅ À prova d'água!  ✨  Invista na sua beleza!  💖  Fale comigo e garanta o seu! #MaryKayGoiania #ComparativoMake #LapisDeOlho #QualidadeMaryKay\n> \n> **Rascunho 5: (Story + Post no Feed)**\n> \n> *   **Story:** Enquete: \"Qual sua cor favorita do novo Lápis Retrátil Mary Kay? Preto, Marrom ou Azul?\".  Use um GIF chamativo e incentive a participação.\n> *   **Post no Feed (após 24h):**\n>     *   **Imagem:** Montagem com as três cores do lápis e o resultado da enquete no Story.\n>     *   **Legenda:**  🔥 A COR MAIS AMADA FOI... 🔥  [Resultado da enquete]!  😍  Mas a verdade é que TODAS as cores do Lápis Retrátil Mary Kay são incríveis!  ✨  E você, já escolheu a sua? 😉  Corre pro direct e aproveite!  💋 #MaryKayBrasil #EnqueteMake #LapisColorido #ConsultoraDeBeleza\n> \n"
          },
          "metadata": {}
        },
        {
          "output_type": "stream",
          "name": "stdout",
          "text": [
            "--------------------------------------------------------------\n",
            "\n",
            "--- 📝 Resultado do Agente 4 (Revisor) ---\n",
            "\n"
          ]
        },
        {
          "output_type": "display_data",
          "data": {
            "text/plain": [
              "<IPython.core.display.Markdown object>"
            ],
            "text/markdown": "> O rascunho está ótimo e pronto para publicar!\n"
          },
          "metadata": {}
        },
        {
          "output_type": "stream",
          "name": "stdout",
          "text": [
            "--------------------------------------------------------------\n"
          ]
        }
      ]
    },
    {
      "cell_type": "code",
      "source": [
        "from google.colab import drive\n",
        "drive.mount('/content/drive')"
      ],
      "metadata": {
        "id": "jA7FuRvGtNi_"
      },
      "execution_count": null,
      "outputs": []
    }
  ]
}